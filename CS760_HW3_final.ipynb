{
 "cells": [
  {
   "cell_type": "code",
   "execution_count": 2,
   "id": "47932f0b",
   "metadata": {},
   "outputs": [],
   "source": [
    "import numpy as np\n",
    "import pandas as pd\n",
    "from collections import Counter\n",
    "import matplotlib.pyplot as plt\n",
    "from math import sqrt\n",
    "from sklearn.model_selection import train_test_split\n",
    "from sklearn.model_selection import KFold\n",
    "from sklearn.metrics import accuracy_score, precision_score, recall_score\n",
    "from sklearn.neighbors import KNeighborsClassifier\n"
   ]
  },
  {
   "cell_type": "code",
   "execution_count": 123,
   "id": "4e0cd60f",
   "metadata": {},
   "outputs": [],
   "source": [
    "X = np.array([[0,3,0], [2,0,0], [0,1,3], [0,1,2], [-1,0,1], [1,1,1]])\n",
    "Y = np.array(['Red', 'Red', 'Red', 'Green', 'Green', 'Red'])\n",
    "predict = np.array([0,0,0])"
   ]
  },
  {
   "cell_type": "code",
   "execution_count": 48,
   "id": "7b59878a",
   "metadata": {},
   "outputs": [
    {
     "data": {
      "text/plain": [
       "array([3.  , 2.  , 3.16, 2.24, 1.41, 1.73])"
      ]
     },
     "execution_count": 48,
     "metadata": {},
     "output_type": "execute_result"
    }
   ],
   "source": [
    "np.around(np.linalg.norm(predict - X, axis = 1), decimals=2)"
   ]
  },
  {
   "cell_type": "code",
   "execution_count": 135,
   "id": "c56ce2e9",
   "metadata": {},
   "outputs": [],
   "source": [
    "def NN(X, Y, predict):\n",
    "    closest_point = None\n",
    "    closest_distance = float('inf')\n",
    "    idx = None\n",
    "    for i in range(len(X)):\n",
    "        current_distance = np.linalg.norm(predict - X[i])\n",
    "        if current_distance <= closest_distance:\n",
    "            closest_distance = current_distance\n",
    "            closest_point = X[i]\n",
    "            idx = i\n",
    "#     print(idx)\n",
    "    return Y[idx]\n"
   ]
  },
  {
   "cell_type": "code",
   "execution_count": 136,
   "id": "315c78a7",
   "metadata": {},
   "outputs": [
    {
     "data": {
      "text/plain": [
       "'Green'"
      ]
     },
     "execution_count": 136,
     "metadata": {},
     "output_type": "execute_result"
    }
   ],
   "source": [
    "NN(X, Y, predict)"
   ]
  },
  {
   "cell_type": "code",
   "execution_count": 137,
   "id": "c9313ce4",
   "metadata": {},
   "outputs": [],
   "source": [
    "def kNN(k, X, Y, predict):\n",
    "    distance = np.linalg.norm(predict - X, axis = 1)\n",
    "    idx_bottom_k = np.argpartition(distance, k)[:k]\n",
    "    bottom_Y = Y[idx_bottom_k]\n",
    "    print(idx_bottom_k, bottom_Y)\n",
    "    return max(Counter(bottom_Y))   "
   ]
  },
  {
   "cell_type": "code",
   "execution_count": 138,
   "id": "e49ba59c",
   "metadata": {
    "scrolled": true
   },
   "outputs": [
    {
     "name": "stdout",
     "output_type": "stream",
     "text": [
      "[4 5 1] ['Green' 'Red' 'Red']\n"
     ]
    },
    {
     "data": {
      "text/plain": [
       "'Red'"
      ]
     },
     "execution_count": 138,
     "metadata": {},
     "output_type": "execute_result"
    }
   ],
   "source": [
    "kNN(3, X, Y, predict)"
   ]
  },
  {
   "cell_type": "code",
   "execution_count": 184,
   "id": "2dc3f3e8",
   "metadata": {},
   "outputs": [
    {
     "data": {
      "text/plain": [
       "0.55"
      ]
     },
     "execution_count": 184,
     "metadata": {},
     "output_type": "execute_result"
    }
   ],
   "source": [
    "fpr = np.array(fpr)\n",
    "tpr = np.array(tpr)\n",
    "X_pr = [[fpr[i],tpr[i]] for i in range(len(fpr))]\n",
    "# print(X_pr)\n",
    "ideal = np.array([0,1])\n",
    "dis = np.array([np.linalg.norm(X_pr[i]-ideal) for i in range(len(X_pr))])\n",
    "# print(dis)\n",
    "idx = dis.argmin()\n",
    "threshold = y_score[idx]\n",
    "threshold"
   ]
  },
  {
   "cell_type": "code",
   "execution_count": 182,
   "id": "81c79006",
   "metadata": {},
   "outputs": [
    {
     "data": {
      "image/png": "[encoded data removed]",
      "text/plain": [
       "<Figure size 432x288 with 1 Axes>"
      ]
     },
     "metadata": {
      "needs_background": "light"
     },
     "output_type": "display_data"
    }
   ],
   "source": [
    "# 1.5 Draw ROC curve\n",
    "y_true = [\"+\", \"+\", \"-\", \"+\", \"+\", \"-\", \"+\", \"+\", \"-\", \"-\"]\n",
    "y_score = [0.95, 0.85, 0.8, 0.7, 0.55, 0.45, 0.4, 0.3, 0.2, 0.1]\n",
    "\n",
    "fpr = []\n",
    "tpr = []\n",
    "\n",
    "for threshold in y_score:\n",
    "    # Calculate the true positive count, false positive count, true negative count, and false negative count\n",
    "    tp = sum([1 for i in range(len(y_true)) if y_true[i] == \"+\" and y_score[i] >= threshold])\n",
    "    fp = sum([1 for i in range(len(y_true)) if y_true[i] == \"-\" and y_score[i] >= threshold])\n",
    "    tn = sum([1 for i in range(len(y_true)) if y_true[i] == \"-\" and y_score[i] < threshold])\n",
    "    fn = sum([1 for i in range(len(y_true)) if y_true[i] == \"+\" and y_score[i] < threshold])\n",
    "    \n",
    "    # Calculate the false positive rate and true positive rate\n",
    "    fpr.append(fp / (fp + tn))\n",
    "    tpr.append(tp / (tp + fn))\n",
    "\n",
    "\n",
    "# Plot the ROC curve\n",
    "plt.plot(fpr, tpr)\n",
    "plt.xlabel(\"False Positive Rate\")\n",
    "plt.ylabel(\"True Positive Rate\")\n",
    "plt.title(\"ROC Curve\")\n",
    "plt.savefig(\"5.1.pdf\", format=\"pdf\")\n",
    "plt.show()\n"
   ]
  },
  {
   "cell_type": "code",
   "execution_count": 51,
   "id": "29482fb0",
   "metadata": {},
   "outputs": [],
   "source": [
    "def load_dataset(name):\n",
    "    X, y = [], []\n",
    "    with open(\"./\" + name) as f:\n",
    "        for line in f:\n",
    "            instance = [float(x) for x in line.split()[:-1]]\n",
    "            # print(instance)\n",
    "            label = int(line.split()[-1])\n",
    "            X.append(instance)\n",
    "            y.append(label)\n",
    "    return np.array(X), np.array(y)"
   ]
  },
  {
   "cell_type": "code",
   "execution_count": 96,
   "id": "a9780088",
   "metadata": {},
   "outputs": [],
   "source": [
    "X, y = load_dataset(name = \"D2z.txt\")"
   ]
  },
  {
   "cell_type": "code",
   "execution_count": 53,
   "id": "6067452f",
   "metadata": {},
   "outputs": [
    {
     "data": {
      "image/png": "[encoded data removed]",
      "text/plain": [
       "<Figure size 432x288 with 1 Axes>"
      ]
     },
     "metadata": {
      "needs_background": "light"
     },
     "output_type": "display_data"
    }
   ],
   "source": [
    "plt.scatter(X[y == 0, 0], X[y == 0, 1], color = \"red\")\n",
    "plt.scatter(X[y == 1, 0], X[y == 1, 1], color = \"blue\")\n",
    "plt.xlabel(\"x0\")\n",
    "plt.ylabel(\"x1\")\n",
    "plt.show()"
   ]
  },
  {
   "cell_type": "code",
   "execution_count": 82,
   "id": "2f5bec11",
   "metadata": {},
   "outputs": [],
   "source": [
    "def _predict(X_train, y_train, x, k):\n",
    "        distances = np.linalg.norm(x - X_train, axis = 1)\n",
    "        # print(distances.shape)\n",
    "        # nearest = np.argsort(distances)\n",
    "        # topK_y = [y_train[i] for i in nearest[:k]]\n",
    "        nearest = np.argpartition(distances,k)[:k]\n",
    "        topK_y = y_train[nearest]\n",
    "        votes = Counter(topK_y)\n",
    "\n",
    "        return votes.most_common(1)[0][0]\n",
    "\n",
    "def predict(X_train, y_train, X_predict, k):\n",
    "\n",
    "        y_predict = [_predict(X_train, y_train, x, k) for x in X_predict]\n",
    "        return np.array(y_predict)\n"
   ]
  },
  {
   "cell_type": "code",
   "execution_count": 83,
   "id": "ae0d5184",
   "metadata": {},
   "outputs": [],
   "source": [
    "def plot_decision_boundary(predict_func, X_train, y_train):   \n",
    "    x0, x1 = np.meshgrid(\n",
    "        np.arange(-2.0,2.1,0.1).reshape(-1, 1),\n",
    "        np.arange(-2.0,2.1,0.1).reshape(-1, 1),\n",
    "    )\n",
    "    \n",
    "    X_new = np.c_[x0.ravel(), x1.ravel()]\n",
    "\n",
    "    y_predict = np.array([predict_func(X_train, y_train, instance, k = 1) for instance in X_new])\n",
    "    zz = y_predict.reshape(x0.shape)\n",
    "\n",
    "    plt.plot(x0[zz == 0], x1[zz == 0], '+', color='pink')\n",
    "    plt.plot(x0[zz == 1], x1[zz ==1], '+', color='green')"
   ]
  },
  {
   "cell_type": "code",
   "execution_count": 97,
   "id": "542e1c3b",
   "metadata": {},
   "outputs": [
    {
     "data": {
      "image/png": "[encoded data removed]",
      "text/plain": [
       "<Figure size 432x288 with 1 Axes>"
      ]
     },
     "metadata": {
      "needs_background": "light"
     },
     "output_type": "display_data"
    }
   ],
   "source": [
    "plot_decision_boundary(_predict,X, y) \n",
    "plt.scatter(X[y == 0, 0], X[y == 0, 1], color = \"red\")\n",
    "plt.scatter(X[y == 1, 0], X[y == 1, 1], color = \"blue\")\n",
    "plt.xlabel(\"x0\")\n",
    "plt.ylabel(\"x1\")\n",
    "plt.xlim(-2.0, 2.0)\n",
    "plt.ylim(-2.0, 2.0)\n",
    "plt.gca().set_aspect('equal', adjustable='box')\n",
    "plt.savefig(\"2.1.1.pdf\", format=\"pdf\")\n",
    "plt.show()"
   ]
  },
  {
   "cell_type": "markdown",
   "id": "7a12f691",
   "metadata": {},
   "source": [
    "## 2. Programming "
   ]
  },
  {
   "cell_type": "code",
   "execution_count": 91,
   "id": "38f5b125",
   "metadata": {
    "scrolled": true
   },
   "outputs": [
    {
     "data": {
      "text/html": [
       "<div>\n",
       "<style scoped>\n",
       "    .dataframe tbody tr th:only-of-type {\n",
       "        vertical-align: middle;\n",
       "    }\n",
       "\n",
       "    .dataframe tbody tr th {\n",
       "        vertical-align: top;\n",
       "    }\n",
       "\n",
       "    .dataframe thead th {\n",
       "        text-align: right;\n",
       "    }\n",
       "</style>\n",
       "<table border=\"1\" class=\"dataframe\">\n",
       "  <thead>\n",
       "    <tr style=\"text-align: right;\">\n",
       "      <th></th>\n",
       "      <th>Email No.</th>\n",
       "      <th>the</th>\n",
       "      <th>to</th>\n",
       "      <th>ect</th>\n",
       "      <th>and</th>\n",
       "      <th>for</th>\n",
       "      <th>of</th>\n",
       "      <th>a</th>\n",
       "      <th>you</th>\n",
       "      <th>hou</th>\n",
       "      <th>...</th>\n",
       "      <th>connevey</th>\n",
       "      <th>jay</th>\n",
       "      <th>valued</th>\n",
       "      <th>lay</th>\n",
       "      <th>infrastructure</th>\n",
       "      <th>military</th>\n",
       "      <th>allowing</th>\n",
       "      <th>ff</th>\n",
       "      <th>dry</th>\n",
       "      <th>Prediction</th>\n",
       "    </tr>\n",
       "  </thead>\n",
       "  <tbody>\n",
       "    <tr>\n",
       "      <th>0</th>\n",
       "      <td>Email 1</td>\n",
       "      <td>0</td>\n",
       "      <td>0</td>\n",
       "      <td>1</td>\n",
       "      <td>0</td>\n",
       "      <td>0</td>\n",
       "      <td>0</td>\n",
       "      <td>2</td>\n",
       "      <td>0</td>\n",
       "      <td>0</td>\n",
       "      <td>...</td>\n",
       "      <td>0</td>\n",
       "      <td>0</td>\n",
       "      <td>0</td>\n",
       "      <td>0</td>\n",
       "      <td>0</td>\n",
       "      <td>0</td>\n",
       "      <td>0</td>\n",
       "      <td>0</td>\n",
       "      <td>0</td>\n",
       "      <td>0</td>\n",
       "    </tr>\n",
       "    <tr>\n",
       "      <th>1</th>\n",
       "      <td>Email 2</td>\n",
       "      <td>8</td>\n",
       "      <td>13</td>\n",
       "      <td>24</td>\n",
       "      <td>6</td>\n",
       "      <td>6</td>\n",
       "      <td>2</td>\n",
       "      <td>102</td>\n",
       "      <td>1</td>\n",
       "      <td>27</td>\n",
       "      <td>...</td>\n",
       "      <td>0</td>\n",
       "      <td>0</td>\n",
       "      <td>0</td>\n",
       "      <td>0</td>\n",
       "      <td>0</td>\n",
       "      <td>0</td>\n",
       "      <td>0</td>\n",
       "      <td>1</td>\n",
       "      <td>0</td>\n",
       "      <td>0</td>\n",
       "    </tr>\n",
       "    <tr>\n",
       "      <th>2</th>\n",
       "      <td>Email 3</td>\n",
       "      <td>0</td>\n",
       "      <td>0</td>\n",
       "      <td>1</td>\n",
       "      <td>0</td>\n",
       "      <td>0</td>\n",
       "      <td>0</td>\n",
       "      <td>8</td>\n",
       "      <td>0</td>\n",
       "      <td>0</td>\n",
       "      <td>...</td>\n",
       "      <td>0</td>\n",
       "      <td>0</td>\n",
       "      <td>0</td>\n",
       "      <td>0</td>\n",
       "      <td>0</td>\n",
       "      <td>0</td>\n",
       "      <td>0</td>\n",
       "      <td>0</td>\n",
       "      <td>0</td>\n",
       "      <td>0</td>\n",
       "    </tr>\n",
       "    <tr>\n",
       "      <th>3</th>\n",
       "      <td>Email 4</td>\n",
       "      <td>0</td>\n",
       "      <td>5</td>\n",
       "      <td>22</td>\n",
       "      <td>0</td>\n",
       "      <td>5</td>\n",
       "      <td>1</td>\n",
       "      <td>51</td>\n",
       "      <td>2</td>\n",
       "      <td>10</td>\n",
       "      <td>...</td>\n",
       "      <td>0</td>\n",
       "      <td>0</td>\n",
       "      <td>0</td>\n",
       "      <td>0</td>\n",
       "      <td>0</td>\n",
       "      <td>0</td>\n",
       "      <td>0</td>\n",
       "      <td>0</td>\n",
       "      <td>0</td>\n",
       "      <td>0</td>\n",
       "    </tr>\n",
       "    <tr>\n",
       "      <th>4</th>\n",
       "      <td>Email 5</td>\n",
       "      <td>7</td>\n",
       "      <td>6</td>\n",
       "      <td>17</td>\n",
       "      <td>1</td>\n",
       "      <td>5</td>\n",
       "      <td>2</td>\n",
       "      <td>57</td>\n",
       "      <td>0</td>\n",
       "      <td>9</td>\n",
       "      <td>...</td>\n",
       "      <td>0</td>\n",
       "      <td>0</td>\n",
       "      <td>0</td>\n",
       "      <td>0</td>\n",
       "      <td>0</td>\n",
       "      <td>0</td>\n",
       "      <td>0</td>\n",
       "      <td>1</td>\n",
       "      <td>0</td>\n",
       "      <td>0</td>\n",
       "    </tr>\n",
       "  </tbody>\n",
       "</table>\n",
       "<p>5 rows × 3002 columns</p>\n",
       "</div>"
      ],
      "text/plain": [
       "  Email No.  the  to  ect  and  for  of    a  you  hou  ...  connevey  jay  \\\n",
       "0   Email 1    0   0    1    0    0   0    2    0    0  ...         0    0   \n",
       "1   Email 2    8  13   24    6    6   2  102    1   27  ...         0    0   \n",
       "2   Email 3    0   0    1    0    0   0    8    0    0  ...         0    0   \n",
       "3   Email 4    0   5   22    0    5   1   51    2   10  ...         0    0   \n",
       "4   Email 5    7   6   17    1    5   2   57    0    9  ...         0    0   \n",
       "\n",
       "   valued  lay  infrastructure  military  allowing  ff  dry  Prediction  \n",
       "0       0    0               0         0         0   0    0           0  \n",
       "1       0    0               0         0         0   1    0           0  \n",
       "2       0    0               0         0         0   0    0           0  \n",
       "3       0    0               0         0         0   0    0           0  \n",
       "4       0    0               0         0         0   1    0           0  \n",
       "\n",
       "[5 rows x 3002 columns]"
      ]
     },
     "execution_count": 91,
     "metadata": {},
     "output_type": "execute_result"
    }
   ],
   "source": [
    "# Load data set and display first few observations\n",
    "dataset = pd.read_csv(\"emails.csv\")\n",
    "dataset.head()"
   ]
  },
  {
   "cell_type": "code",
   "execution_count": 92,
   "id": "90fa479f",
   "metadata": {},
   "outputs": [],
   "source": [
    "X_email = dataset.drop(columns=['Email No.', 'Prediction'])\n",
    "y_email = dataset['Prediction']"
   ]
  },
  {
   "cell_type": "code",
   "execution_count": 93,
   "id": "dc7dc194",
   "metadata": {},
   "outputs": [],
   "source": [
    "def _predict(X_train, y_train, x, k):\n",
    "        distances = np.linalg.norm(x - X_train, axis = 1)\n",
    "        nearest = np.argpartition(distances,k)[:k]\n",
    "        topK_y = y_train[nearest]\n",
    "        votes = Counter(topK_y)\n",
    "\n",
    "        return votes.most_common(1)[0][0]\n",
    "\n",
    "def predict(X_train, y_train, X_predict, k):\n",
    "\n",
    "        y_predict = [_predict(X_train, y_train, x, k) for x in X_predict]\n",
    "        return np.array(y_predict)\n"
   ]
  },
  {
   "cell_type": "code",
   "execution_count": 102,
   "id": "5aa9fc03",
   "metadata": {},
   "outputs": [],
   "source": [
    "# 1NN for 5-fold cross validation\n",
    "def run_knn(K = 1, fold = 5):\n",
    "    all_idx = np.arange(5000)\n",
    "    idxes = np.split(all_idx, 5)\n",
    "    X = X_email.values\n",
    "    y = y_email.values\n",
    "    all_acc, all_prec, all_recall = [], [], []\n",
    "\n",
    "    for i in range(FOLD):\n",
    "        test_idx = idxes[i]\n",
    "        train_idx = list(set(all_idx) - set(idxes[i]))\n",
    "        X_test, y_true = X[test_idx], y[test_idx]\n",
    "        X_train, y_train = X[train_idx], y[train_idx]\n",
    "        print(len(test_idx), len(train_idx))\n",
    "        y_pred = predict(X_train, y_train, X_test, k = K)\n",
    "\n",
    "        acc = accuracy_score(y_true, y_pred)\n",
    "        prec = precision_score(y_true, y_pred)\n",
    "        recall = recall_score(y_true, y_pred)\n",
    "\n",
    "        all_acc.append(acc)\n",
    "        all_prec.append(prec)\n",
    "        all_recall.append(recall)\n",
    "\n",
    "        print(\"Fold: \", i+1)\n",
    "        print(\"Accuracy:\", acc)\n",
    "        print(\"Precision:\", prec)\n",
    "        print(\"Recall:\", recall)\n",
    "        \n",
    "        # verify correctness  \n",
    "        knn = KNeighborsClassifier(n_neighbors=K)\n",
    "        knn.fit(X_train, y_train)\n",
    "        y_pred = knn.predict(X_test)\n",
    "        sk_acc = accuracy_score(y_true, y_pred)\n",
    "        print(\"SKlearn Accuracy:\", sk_acc)\n",
    "        \n",
    "        \n",
    "    return all_acc"
   ]
  },
  {
   "cell_type": "code",
   "execution_count": 101,
   "id": "807393c2",
   "metadata": {},
   "outputs": [
    {
     "name": "stdout",
     "output_type": "stream",
     "text": [
      "1000 4000\n",
      "Fold:  1\n",
      "Accuracy: 0.825\n",
      "Precision: 0.6544943820224719\n",
      "Recall: 0.8175438596491228\n",
      "SKlearn Accuracy: 0.825\n",
      "1000 4000\n",
      "Fold:  2\n",
      "Accuracy: 0.853\n",
      "Precision: 0.6857142857142857\n",
      "Recall: 0.8664259927797834\n",
      "SKlearn Accuracy: 0.853\n",
      "1000 4000\n",
      "Fold:  3\n",
      "Accuracy: 0.862\n",
      "Precision: 0.7212121212121212\n",
      "Recall: 0.8380281690140845\n",
      "SKlearn Accuracy: 0.862\n",
      "1000 4000\n",
      "Fold:  4\n",
      "Accuracy: 0.851\n",
      "Precision: 0.7164179104477612\n",
      "Recall: 0.8163265306122449\n",
      "SKlearn Accuracy: 0.851\n",
      "1000 4000\n",
      "Fold:  5\n",
      "Accuracy: 0.775\n",
      "Precision: 0.6057441253263708\n",
      "Recall: 0.7581699346405228\n",
      "SKlearn Accuracy: 0.775\n"
     ]
    }
   ],
   "source": [
    "# 2\n",
    "all_acc = run_knn(K = 1, fold = 5)"
   ]
  },
  {
   "cell_type": "code",
   "execution_count": 106,
   "id": "e59f9a43",
   "metadata": {},
   "outputs": [
    {
     "name": "stdout",
     "output_type": "stream",
     "text": [
      "Fold:  1\n",
      "Accuracy: 0.825\n",
      "Fold:  2\n",
      "Accuracy: 0.853\n",
      "Fold:  3\n",
      "Accuracy: 0.862\n",
      "Fold:  4\n",
      "Accuracy: 0.851\n",
      "Fold:  5\n",
      "Accuracy: 0.775\n",
      "Fold:  1\n",
      "Accuracy: 0.847\n",
      "Fold:  2\n",
      "Accuracy: 0.851\n",
      "Fold:  3\n",
      "Accuracy: 0.859\n",
      "Fold:  4\n",
      "Accuracy: 0.88\n",
      "Fold:  5\n",
      "Accuracy: 0.774\n",
      "Fold:  1\n",
      "Accuracy: 0.837\n",
      "Fold:  2\n",
      "Accuracy: 0.85\n",
      "Fold:  3\n",
      "Accuracy: 0.869\n",
      "Fold:  4\n",
      "Accuracy: 0.869\n",
      "Fold:  5\n",
      "Accuracy: 0.779\n",
      "Fold:  1\n",
      "Accuracy: 0.839\n",
      "Fold:  2\n",
      "Accuracy: 0.864\n",
      "Fold:  3\n",
      "Accuracy: 0.875\n",
      "Fold:  4\n",
      "Accuracy: 0.874\n",
      "Fold:  5\n",
      "Accuracy: 0.779\n",
      "Fold:  1\n",
      "Accuracy: 0.862\n",
      "Fold:  2\n",
      "Accuracy: 0.869\n",
      "Fold:  3\n",
      "Accuracy: 0.878\n",
      "Fold:  4\n",
      "Accuracy: 0.887\n",
      "Fold:  5\n",
      "Accuracy: 0.782\n"
     ]
    }
   ],
   "source": [
    "# 4 calculation\n",
    "def run_knn_fast(K = 1, fold = 5):\n",
    "    '''\n",
    "    For faster calculation, I used sklearn \n",
    "    '''\n",
    "    all_idx = np.arange(5000)\n",
    "    idxes = np.split(all_idx, 5)\n",
    "    X = X_email.values\n",
    "    y = y_email.values\n",
    "    all_acc = []\n",
    "\n",
    "    for i in range(FOLD):\n",
    "        test_idx = idxes[i]\n",
    "        train_idx = list(set(all_idx) - set(idxes[i]))\n",
    "        X_test, y_true = X[test_idx], y[test_idx]\n",
    "        X_train, y_train = X[train_idx], y[train_idx]\n",
    "        \n",
    "        knn = KNeighborsClassifier(n_neighbors=K)\n",
    "        knn.fit(X_train, y_train)\n",
    "        y_pred = knn.predict(X_test)\n",
    "        acc = accuracy_score(y_true, y_pred)\n",
    "\n",
    "        all_acc.append(acc)\n",
    "\n",
    "        print(\"Fold: \", i+1)\n",
    "        print(\"Accuracy:\", acc)\n",
    "          \n",
    "    return all_acc\n",
    "\n",
    "avg_acc = []\n",
    "k_values = [1,3,5,7,10]\n",
    "for k in k_values:\n",
    "    all_acc = run_knn_fast(K = k, fold = 5)\n",
    "    avg_acc.append(np.array(all_acc).mean())      "
   ]
  },
  {
   "cell_type": "code",
   "execution_count": 108,
   "id": "511983af",
   "metadata": {},
   "outputs": [
    {
     "name": "stdout",
     "output_type": "stream",
     "text": [
      "[0.8332, 0.8422000000000001, 0.8408, 0.8462, 0.8556000000000001]\n"
     ]
    },
    {
     "data": {
      "image/png": "[encoded data removed]",
      "text/plain": [
       "<Figure size 432x288 with 1 Axes>"
      ]
     },
     "metadata": {
      "needs_background": "light"
     },
     "output_type": "display_data"
    }
   ],
   "source": [
    "# 4 plotting\n",
    "print(avg_acc)\n",
    "# Create a figure and axis object\n",
    "fig, ax = plt.subplots()\n",
    "\n",
    "# Plot the data as a line plot\n",
    "ax.plot(k_values, avg_acc, marker='o')\n",
    "\n",
    "# Set the axis labels and title\n",
    "ax.set_xlabel('k')\n",
    "ax.set_ylabel('Average Accuracy')\n",
    "ax.set_title('KNN 5-Fold Cross Validation')\n",
    "\n",
    "# Show the plot\n",
    "plt.show()"
   ]
  },
  {
   "cell_type": "code",
   "execution_count": 116,
   "id": "7556cbbc",
   "metadata": {},
   "outputs": [],
   "source": [
    "# logistic regression\n",
    "\n",
    "import numpy as np\n",
    "\n",
    "# import scipy\n",
    "\n",
    "class LogisticRegression:\n",
    "    def __init__(self, learning_rate=0.01, num_iterations=10000):\n",
    "        self.learning_rate = learning_rate\n",
    "        self.num_iterations = num_iterations\n",
    "        self.weights = None\n",
    "        self.bias = None\n",
    "        \n",
    "    def fit(self, X, y):\n",
    "        # initialize parameters\n",
    "        n_samples, n_features = X.shape\n",
    "        self.weights = np.zeros(n_features)\n",
    "        self.bias = 0\n",
    "        \n",
    "        # gradient descent\n",
    "        for i in range(self.num_iterations):\n",
    "            z = np.dot(X, self.weights) + self.bias\n",
    "            y_pred = self._sigmoid(z)\n",
    "            \n",
    "            dw = (1 / n_samples) * np.dot(X.T, (y_pred - y))\n",
    "            db = (1 / n_samples) * np.sum(y_pred - y)\n",
    "            \n",
    "            self.weights -= self.learning_rate * dw\n",
    "            self.bias -= self.learning_rate * db\n",
    "            \n",
    "    def predict(self, X):\n",
    "        z = np.dot(X, self.weights) + self.bias\n",
    "        y_pred = self._sigmoid(z)\n",
    "        return [1 if i > 0.5 else 0 for i in y_pred]\n",
    "    \n",
    "    def predict_proba(self, X):\n",
    "        z = np.dot(X, self.weights) + self.bias\n",
    "        y_pred = self._sigmoid(z)\n",
    "        return y_pred\n",
    "    \n",
    "    def _sigmoid(self, z):\n",
    "        # return scipy.special.expit(x)\n",
    "        return 1 / (1 + np.exp(-z))\n",
    "    "
   ]
  },
  {
   "cell_type": "code",
   "execution_count": 111,
   "id": "2e72496d",
   "metadata": {},
   "outputs": [],
   "source": [
    "# LR for 5-fold cross validation\n",
    "def run_LR(fold = 5):\n",
    "    model = LogisticRegression()\n",
    "    all_idx = np.arange(5000)\n",
    "    idxes = np.split(all_idx, 5)\n",
    "    X = X_email.values\n",
    "    y = y_email.values\n",
    "    all_acc, all_prec, all_recall = [], [], []\n",
    "\n",
    "    for i in range(FOLD):\n",
    "        test_idx = idxes[i]\n",
    "        train_idx = list(set(all_idx) - set(idxes[i]))\n",
    "        X_test, y_true = X[test_idx], y[test_idx]\n",
    "        X_train, y_train = X[train_idx], y[train_idx]\n",
    "        \n",
    "        model.fit(X_train, y_train)\n",
    "        y_pred = model.predict(X_test)\n",
    "\n",
    "        acc = accuracy_score(y_true, y_pred)\n",
    "        prec = precision_score(y_true, y_pred)\n",
    "        recall = recall_score(y_true, y_pred)\n",
    "\n",
    "        all_acc.append(acc)\n",
    "        all_prec.append(prec)\n",
    "        all_recall.append(recall)\n",
    "\n",
    "        print(\"Fold: \", i+1)\n",
    "        print(\"Accuracy:\", acc)\n",
    "        print(\"Precision:\", prec)\n",
    "        print(\"Recall:\", recall)\n",
    "                       \n",
    "    return all_acc"
   ]
  },
  {
   "cell_type": "code",
   "execution_count": 112,
   "id": "f16669cb",
   "metadata": {},
   "outputs": [
    {
     "name": "stderr",
     "output_type": "stream",
     "text": [
      "<ipython-input-109-2ef86981649c>:35: RuntimeWarning: overflow encountered in exp\n",
      "  return 1 / (1 + np.exp(-z))\n"
     ]
    },
    {
     "name": "stdout",
     "output_type": "stream",
     "text": [
      "Fold:  1\n",
      "Accuracy: 0.957\n",
      "Precision: 0.926056338028169\n",
      "Recall: 0.9228070175438596\n"
     ]
    },
    {
     "name": "stderr",
     "output_type": "stream",
     "text": [
      "<ipython-input-109-2ef86981649c>:35: RuntimeWarning: overflow encountered in exp\n",
      "  return 1 / (1 + np.exp(-z))\n"
     ]
    },
    {
     "name": "stdout",
     "output_type": "stream",
     "text": [
      "Fold:  2\n",
      "Accuracy: 0.955\n",
      "Precision: 0.9264705882352942\n",
      "Recall: 0.9097472924187726\n"
     ]
    },
    {
     "name": "stderr",
     "output_type": "stream",
     "text": [
      "<ipython-input-109-2ef86981649c>:35: RuntimeWarning: overflow encountered in exp\n",
      "  return 1 / (1 + np.exp(-z))\n"
     ]
    },
    {
     "name": "stdout",
     "output_type": "stream",
     "text": [
      "Fold:  3\n",
      "Accuracy: 0.939\n",
      "Precision: 0.9239543726235742\n",
      "Recall: 0.8556338028169014\n"
     ]
    },
    {
     "name": "stderr",
     "output_type": "stream",
     "text": [
      "<ipython-input-109-2ef86981649c>:35: RuntimeWarning: overflow encountered in exp\n",
      "  return 1 / (1 + np.exp(-z))\n"
     ]
    },
    {
     "name": "stdout",
     "output_type": "stream",
     "text": [
      "Fold:  4\n",
      "Accuracy: 0.954\n",
      "Precision: 0.9105960264900662\n",
      "Recall: 0.935374149659864\n"
     ]
    },
    {
     "name": "stderr",
     "output_type": "stream",
     "text": [
      "<ipython-input-109-2ef86981649c>:35: RuntimeWarning: overflow encountered in exp\n",
      "  return 1 / (1 + np.exp(-z))\n"
     ]
    },
    {
     "name": "stdout",
     "output_type": "stream",
     "text": [
      "Fold:  5\n",
      "Accuracy: 0.922\n",
      "Precision: 0.875\n",
      "Recall: 0.869281045751634\n"
     ]
    },
    {
     "data": {
      "text/plain": [
       "[0.957, 0.955, 0.939, 0.954, 0.922]"
      ]
     },
     "execution_count": 112,
     "metadata": {},
     "output_type": "execute_result"
    }
   ],
   "source": [
    "run_LR(fold = 5)"
   ]
  },
  {
   "cell_type": "code",
   "execution_count": 115,
   "id": "2387de7d",
   "metadata": {},
   "outputs": [
    {
     "name": "stderr",
     "output_type": "stream",
     "text": [
      "<ipython-input-114-994b53399656>:40: RuntimeWarning: overflow encountered in exp\n",
      "  return 1 / (1 + np.exp(-z))\n"
     ]
    },
    {
     "data": {
      "image/png": "[encoded data removed]",
      "text/plain": [
       "<Figure size 432x288 with 1 Axes>"
      ]
     },
     "metadata": {
      "needs_background": "light"
     },
     "output_type": "display_data"
    }
   ],
   "source": [
    "# 5 \n",
    "from sklearn.metrics import roc_curve\n",
    "from sklearn.metrics import roc_auc_score\n",
    "import matplotlib.pyplot as plt\n",
    "\n",
    "X = X_email.values\n",
    "y = y_email.values\n",
    "all_idx = np.arange(5000)\n",
    "idxes = np.split(all_idx, 5)\n",
    "test_idx = idxes[4]\n",
    "train_idx = list(set(all_idx) - set(idxes[4]))\n",
    "X_test, y_true = X[test_idx], y[test_idx]\n",
    "X_train, y_train = X[train_idx], y[train_idx]\n",
    "\n",
    "# KNN\n",
    "knn = KNeighborsClassifier(n_neighbors=5)\n",
    "knn.fit(X_train, y_train)\n",
    "y_scores_knn = knn.predict_proba(X_test)[:, 1]\n",
    "\n",
    "# LR \n",
    "model = LogisticRegression()\n",
    "model.fit(X_train, y_train)\n",
    "y_scores_lr = model.predict_proba(X_test)\n",
    "\n",
    "fpr_knn, tpr_knn, thresholds = roc_curve(y_true, y_scores_knn)\n",
    "roc_auc_knn = roc_auc_score(y_true, y_scores_knn)\n",
    "\n",
    "fpr_lr, tpr_lr, thresholds = roc_curve(y_true, y_scores_lr)\n",
    "roc_auc_lr = roc_auc_score(y_true, y_scores_lr)\n",
    "\n",
    "# Plot ROC curve\n",
    "plt.plot(fpr_knn, tpr_knn, label='KNeighborsClassifier (AUC = %0.2f)' % roc_auc_knn)\n",
    "plt.plot(fpr_lr, tpr_lr, label='LogisticRegression (AUC = %0.2f)' % roc_auc_lr)\n",
    "plt.plot([0, 1], [0, 1], 'k--')\n",
    "plt.xlim([0.0, 1.0])\n",
    "plt.ylim([0.0, 1.05])\n",
    "plt.xlabel('False Positive Rate')\n",
    "plt.ylabel('True Positive Rate')\n",
    "plt.title('ROC Curve')\n",
    "plt.legend(loc=\"lower right\")\n",
    "plt.show()\n",
    "\n"
   ]
  },
  {
   "cell_type": "code",
   "execution_count": null,
   "id": "967ee1bb",
   "metadata": {},
   "outputs": [],
   "source": []
  }
 ],
 "metadata": {
  "kernelspec": {
   "display_name": "Python 3 (ipykernel)",
   "language": "python",
   "name": "python3"
  },
  "language_info": {
   "codemirror_mode": {
    "name": "ipython",
    "version": 3
   },
   "file_extension": ".py",
   "mimetype": "text/x-python",
   "name": "python",
   "nbconvert_exporter": "python",
   "pygments_lexer": "ipython3",
   "version": "3.9.12"
  }
 },
 "nbformat": 4,
 "nbformat_minor": 5
}
